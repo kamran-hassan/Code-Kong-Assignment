{
  "nbformat": 4,
  "nbformat_minor": 0,
  "metadata": {
    "colab": {
      "name": "numpy_assignment_code_kong.ipynb",
      "provenance": [],
      "include_colab_link": true
    },
    "kernelspec": {
      "name": "python3",
      "display_name": "Python 3"
    },
    "language_info": {
      "name": "python"
    }
  },
  "cells": [
    {
      "cell_type": "markdown",
      "metadata": {
        "id": "view-in-github",
        "colab_type": "text"
      },
      "source": [
        "<a href=\"https://colab.research.google.com/github/kamran-hassan/Code-Kong-Assignment/blob/main/numpy_assignment_code_kong.ipynb\" target=\"_parent\"><img src=\"https://colab.research.google.com/assets/colab-badge.svg\" alt=\"Open In Colab\"/></a>"
      ]
    },
    {
      "cell_type": "markdown",
      "metadata": {
        "id": "8820A7gq8d73"
      },
      "source": [
        "# Numpy assignment"
      ]
    },
    {
      "cell_type": "markdown",
      "metadata": {
        "id": "GOJm3tt48lev"
      },
      "source": [
        "## 1. Import numpy "
      ]
    },
    {
      "cell_type": "code",
      "metadata": {
        "id": "gy4YwZG58aBS"
      },
      "source": [
        "import numpy as np"
      ],
      "execution_count": 1,
      "outputs": []
    },
    {
      "cell_type": "markdown",
      "metadata": {
        "id": "kXdX6fZE8qyo"
      },
      "source": [
        "## 2. Create an array of 10 zeroes"
      ]
    },
    {
      "cell_type": "code",
      "metadata": {
        "id": "KfpKzoMi8xCh",
        "outputId": "c3f5a74b-f5e4-49a6-d0fc-7a3150da302f",
        "colab": {
          "base_uri": "https://localhost:8080/"
        }
      },
      "source": [
        "zero_arr = np.zeros(10)\n",
        "print(zero_arr)"
      ],
      "execution_count": 7,
      "outputs": [
        {
          "output_type": "stream",
          "name": "stdout",
          "text": [
            "[0. 0. 0. 0. 0. 0. 0. 0. 0. 0.]\n"
          ]
        }
      ]
    },
    {
      "cell_type": "markdown",
      "metadata": {
        "id": "Y99t611H8xqX"
      },
      "source": [
        "## 3. Create an array of 10 ones"
      ]
    },
    {
      "cell_type": "code",
      "metadata": {
        "id": "oTcw5FrZ83Zi",
        "outputId": "b45520ad-320f-4146-8bea-963ba5132c34",
        "colab": {
          "base_uri": "https://localhost:8080/"
        }
      },
      "source": [
        "method1 = np.array([1]*10)\n",
        "print(method1)\n",
        "\n",
        "method2 = np.ones(10)\n",
        "print(method2)"
      ],
      "execution_count": 9,
      "outputs": [
        {
          "output_type": "stream",
          "name": "stdout",
          "text": [
            "[1 1 1 1 1 1 1 1 1 1]\n",
            "[1. 1. 1. 1. 1. 1. 1. 1. 1. 1.]\n"
          ]
        }
      ]
    },
    {
      "cell_type": "markdown",
      "metadata": {
        "id": "h2yw4BMU83yD"
      },
      "source": [
        "## 4. Create an array of 10 fives"
      ]
    },
    {
      "cell_type": "code",
      "metadata": {
        "id": "wo5ZFyof89FS",
        "outputId": "3d15c10b-c773-4ea8-b940-17088fb6a9e5",
        "colab": {
          "base_uri": "https://localhost:8080/"
        }
      },
      "source": [
        "method1 = np.array([5]*10)\n",
        "print(method1)\n",
        "\n",
        "method2 = np.full(10,5)\n",
        "print(method2)"
      ],
      "execution_count": 10,
      "outputs": [
        {
          "output_type": "stream",
          "name": "stdout",
          "text": [
            "[5 5 5 5 5 5 5 5 5 5]\n",
            "[5 5 5 5 5 5 5 5 5 5]\n"
          ]
        }
      ]
    },
    {
      "cell_type": "markdown",
      "metadata": {
        "id": "t2VTV6oV89qh"
      },
      "source": [
        "## 5. Create an array of integers from 11 to 50"
      ]
    },
    {
      "cell_type": "code",
      "metadata": {
        "id": "pgqg5u8j9M6X",
        "outputId": "155036bd-516b-4f43-bc33-3f0d329ab931",
        "colab": {
          "base_uri": "https://localhost:8080/"
        }
      },
      "source": [
        "x = np.arange(11,50)\n",
        "print(x)"
      ],
      "execution_count": 11,
      "outputs": [
        {
          "output_type": "stream",
          "name": "stdout",
          "text": [
            "[11 12 13 14 15 16 17 18 19 20 21 22 23 24 25 26 27 28 29 30 31 32 33 34\n",
            " 35 36 37 38 39 40 41 42 43 44 45 46 47 48 49]\n"
          ]
        }
      ]
    },
    {
      "cell_type": "markdown",
      "metadata": {
        "id": "uA44hF0W9NVg"
      },
      "source": [
        "## 6. Create an array of all the even integers from 11 to 50"
      ]
    },
    {
      "cell_type": "code",
      "metadata": {
        "id": "lk5n3Pw_9Wip",
        "outputId": "04d635fc-92ae-41a8-c904-2dfb0a7eb800",
        "colab": {
          "base_uri": "https://localhost:8080/"
        }
      },
      "source": [
        "y = np.arange(12,50,2)\n",
        "print(y)"
      ],
      "execution_count": 13,
      "outputs": [
        {
          "output_type": "stream",
          "name": "stdout",
          "text": [
            "[12 14 16 18 20 22 24 26 28 30 32 34 36 38 40 42 44 46 48]\n"
          ]
        }
      ]
    },
    {
      "cell_type": "markdown",
      "metadata": {
        "id": "4qVWaJ199W-R"
      },
      "source": [
        "## 7. Create a 3 * 3 matrices of values from range 0 to 8 "
      ]
    },
    {
      "cell_type": "code",
      "metadata": {
        "id": "rMjavPRT9iwC",
        "outputId": "58425e49-62d5-4fe9-93f0-53bed5ac34fb",
        "colab": {
          "base_uri": "https://localhost:8080/"
        }
      },
      "source": [
        "z = np.arange(0,9)\n",
        "z = z.reshape(3,3)\n",
        "print(z)\n",
        "\n",
        "# we can also go with resize also\n",
        "z1 = np.arange(0,9)\n",
        "z1 = np.resize(z1,(3,3))\n",
        "print(z1)\n"
      ],
      "execution_count": 18,
      "outputs": [
        {
          "output_type": "stream",
          "name": "stdout",
          "text": [
            "[[0 1 2]\n",
            " [3 4 5]\n",
            " [6 7 8]]\n",
            "[[0 1 2]\n",
            " [3 4 5]\n",
            " [6 7 8]]\n"
          ]
        }
      ]
    },
    {
      "cell_type": "markdown",
      "metadata": {
        "id": "p_G5GD4x9jRZ"
      },
      "source": [
        "## Use numpy to gentrate a number randomly between 0 and 1"
      ]
    },
    {
      "cell_type": "code",
      "metadata": {
        "id": "F1igDzUc9n8x",
        "outputId": "8f131daa-0837-4c01-ac6c-e6de661300bf",
        "colab": {
          "base_uri": "https://localhost:8080/"
        }
      },
      "source": [
        "r = np.random.rand()\n",
        "print(r)"
      ],
      "execution_count": 27,
      "outputs": [
        {
          "output_type": "stream",
          "name": "stdout",
          "text": [
            "0.0340218146845348\n"
          ]
        }
      ]
    },
    {
      "cell_type": "markdown",
      "metadata": {
        "id": "yz9RkN1m9oXh"
      },
      "source": [
        "## Create the following matrices"
      ]
    },
    {
      "cell_type": "markdown",
      "metadata": {
        "id": "GpBLScoS-Bos"
      },
      "source": [
        "### 20 linrarly spaced points between 0 and 2"
      ]
    },
    {
      "cell_type": "code",
      "metadata": {
        "id": "404Fc4jn97kZ",
        "outputId": "a8b4606f-42f4-487f-935f-8cab89079ed0",
        "colab": {
          "base_uri": "https://localhost:8080/"
        }
      },
      "source": [
        "l = np.linspace(0,2,20)\n",
        "print(l)"
      ],
      "execution_count": 30,
      "outputs": [
        {
          "output_type": "stream",
          "name": "stdout",
          "text": [
            "[0.         0.10526316 0.21052632 0.31578947 0.42105263 0.52631579\n",
            " 0.63157895 0.73684211 0.84210526 0.94736842 1.05263158 1.15789474\n",
            " 1.26315789 1.36842105 1.47368421 1.57894737 1.68421053 1.78947368\n",
            " 1.89473684 2.        ]\n"
          ]
        }
      ]
    },
    {
      "cell_type": "markdown",
      "metadata": {
        "id": "vv0pclwo-F5L"
      },
      "source": [
        "## Numpy indexing and selection"
      ]
    },
    {
      "cell_type": "code",
      "metadata": {
        "colab": {
          "base_uri": "https://localhost:8080/"
        },
        "id": "5wwSNpSd-SWp",
        "outputId": "1757433b-0c42-404e-9f3a-cab69d64e69b"
      },
      "source": [
        "mat = np.arange(1,26).reshape(5,5)\n",
        "mat"
      ],
      "execution_count": 31,
      "outputs": [
        {
          "output_type": "execute_result",
          "data": {
            "text/plain": [
              "array([[ 1,  2,  3,  4,  5],\n",
              "       [ 6,  7,  8,  9, 10],\n",
              "       [11, 12, 13, 14, 15],\n",
              "       [16, 17, 18, 19, 20],\n",
              "       [21, 22, 23, 24, 25]])"
            ]
          },
          "metadata": {},
          "execution_count": 31
        }
      ]
    },
    {
      "cell_type": "markdown",
      "metadata": {
        "id": "iTBZNmAR-tFF"
      },
      "source": [
        "Use the above matrices for the following set of questions"
      ]
    },
    {
      "cell_type": "markdown",
      "metadata": {
        "id": "IkLSFN_e-yLp"
      },
      "source": [
        "### 1. only first value of matrice mat"
      ]
    },
    {
      "cell_type": "code",
      "metadata": {
        "id": "Tf3nZ2lH-m_O",
        "outputId": "60c9199e-8392-4197-b846-071268ef7275",
        "colab": {
          "base_uri": "https://localhost:8080/"
        }
      },
      "source": [
        "mat[0][0]"
      ],
      "execution_count": 33,
      "outputs": [
        {
          "output_type": "execute_result",
          "data": {
            "text/plain": [
              "1"
            ]
          },
          "metadata": {},
          "execution_count": 33
        }
      ]
    },
    {
      "cell_type": "markdown",
      "metadata": {
        "id": "zXlls_1O-36q"
      },
      "source": [
        "### 2. middle value of matrice mat"
      ]
    },
    {
      "cell_type": "code",
      "metadata": {
        "id": "DarfuwIA-9qv",
        "outputId": "0e8ec886-69d1-4fe3-921f-e11cd8031a91",
        "colab": {
          "base_uri": "https://localhost:8080/"
        }
      },
      "source": [
        "np.median(mat)"
      ],
      "execution_count": 36,
      "outputs": [
        {
          "output_type": "execute_result",
          "data": {
            "text/plain": [
              "13.0"
            ]
          },
          "metadata": {},
          "execution_count": 36
        }
      ]
    },
    {
      "cell_type": "markdown",
      "metadata": {
        "id": "yHFI_eL_--OQ"
      },
      "source": [
        "### 3. first two rows and last one column values of matrice mat"
      ]
    },
    {
      "cell_type": "code",
      "metadata": {
        "id": "bfM_HR1g_DyB",
        "outputId": "e3f5fb39-e610-4c4e-948b-94a8e8aeaee9",
        "colab": {
          "base_uri": "https://localhost:8080/"
        }
      },
      "source": [
        "print(mat[0:2][:])  # first two row\n",
        "\n",
        "print((mat[:,4]).reshape(5,1))   # last column i have used reshpe for better visualization it not  compulsory while operation"
      ],
      "execution_count": 49,
      "outputs": [
        {
          "output_type": "stream",
          "name": "stdout",
          "text": [
            "[[ 1  2  3  4  5]\n",
            " [ 6  7  8  9 10]]\n",
            "[[ 5]\n",
            " [10]\n",
            " [15]\n",
            " [20]\n",
            " [25]]\n"
          ]
        }
      ]
    },
    {
      "cell_type": "markdown",
      "metadata": {
        "id": "rALMjOR__EMv"
      },
      "source": [
        "### 4. last row and all column values of matrice mat"
      ]
    },
    {
      "cell_type": "code",
      "metadata": {
        "id": "ZBrYW6Sg_QKH",
        "outputId": "0b873b45-47ea-4b00-f9f0-fa5dea56090b",
        "colab": {
          "base_uri": "https://localhost:8080/"
        }
      },
      "source": [
        "print(mat[-1,:])  # last row \n",
        "\n",
        "print(mat) #all column mean all complete matrix"
      ],
      "execution_count": 52,
      "outputs": [
        {
          "output_type": "stream",
          "name": "stdout",
          "text": [
            "[21 22 23 24 25]\n",
            "[[ 1  2  3  4  5]\n",
            " [ 6  7  8  9 10]\n",
            " [11 12 13 14 15]\n",
            " [16 17 18 19 20]\n",
            " [21 22 23 24 25]]\n"
          ]
        }
      ]
    }
  ]
}